{
 "cells": [
  {
   "cell_type": "markdown",
   "metadata": {},
   "source": [
    "NeuralChat is a customizable chat framework designed to create user own chatbot within few minutes on multiple architectures. This notebook is used to demonstrate how to build a talking chatbot on 4th Generation of Intel® Xeon® Scalable Processors Sapphire Rapids.\n",
    "\n",
    "The 4th Generation of Intel® Xeon® Scalable processor provides two instruction sets viz. AMX_BF16 and AMX_INT8 which provides acceleration for bfloat16 and int8 operations respectively."
   ]
  },
  {
   "cell_type": "markdown",
   "metadata": {},
   "source": [
    "# Prepare Environment"
   ]
  },
  {
   "cell_type": "markdown",
   "metadata": {},
   "source": [
    "Install intel extension for transformers:"
   ]
  },
  {
   "cell_type": "code",
   "execution_count": 1,
   "metadata": {},
   "outputs": [
    {
     "name": "stdout",
     "output_type": "stream",
     "text": [
      "Defaulting to user installation because normal site-packages is not writeable\n",
      "Requirement already satisfied: intel-extension-for-transformers in /home/u82c09ec9d93e5ef52d0b9314c1dc336/.local/lib/python3.9/site-packages (1.4.2)\n",
      "Requirement already satisfied: packaging in /opt/intel/oneapi/intelpython/lib/python3.9/site-packages (from intel-extension-for-transformers) (23.2)\n",
      "Requirement already satisfied: numpy in /home/u82c09ec9d93e5ef52d0b9314c1dc336/.local/lib/python3.9/site-packages (from intel-extension-for-transformers) (1.23.5)\n",
      "Requirement already satisfied: schema in /home/u82c09ec9d93e5ef52d0b9314c1dc336/.local/lib/python3.9/site-packages (from intel-extension-for-transformers) (0.7.7)\n",
      "Requirement already satisfied: pyyaml in /opt/intel/oneapi/intelpython/lib/python3.9/site-packages (from intel-extension-for-transformers) (6.0.1)\n",
      "Requirement already satisfied: neural-compressor in /home/u82c09ec9d93e5ef52d0b9314c1dc336/.local/lib/python3.9/site-packages (from intel-extension-for-transformers) (2.6)\n",
      "Requirement already satisfied: transformers in /home/u82c09ec9d93e5ef52d0b9314c1dc336/.local/lib/python3.9/site-packages (from intel-extension-for-transformers) (4.42.4)\n",
      "Requirement already satisfied: deprecated>=1.2.13 in /home/u82c09ec9d93e5ef52d0b9314c1dc336/.local/lib/python3.9/site-packages (from neural-compressor->intel-extension-for-transformers) (1.2.14)\n",
      "Requirement already satisfied: opencv-python-headless in /home/u82c09ec9d93e5ef52d0b9314c1dc336/.local/lib/python3.9/site-packages (from neural-compressor->intel-extension-for-transformers) (4.10.0.84)\n",
      "Requirement already satisfied: pandas in /opt/intel/oneapi/intelpython/lib/python3.9/site-packages (from neural-compressor->intel-extension-for-transformers) (2.2.2)\n",
      "Requirement already satisfied: Pillow in /opt/intel/oneapi/intelpython/lib/python3.9/site-packages (from neural-compressor->intel-extension-for-transformers) (10.2.0)\n",
      "Requirement already satisfied: prettytable in /home/u82c09ec9d93e5ef52d0b9314c1dc336/.local/lib/python3.9/site-packages (from neural-compressor->intel-extension-for-transformers) (3.10.2)\n",
      "Requirement already satisfied: psutil in /opt/intel/oneapi/intelpython/lib/python3.9/site-packages (from neural-compressor->intel-extension-for-transformers) (5.9.8)\n",
      "Requirement already satisfied: py-cpuinfo in /home/u82c09ec9d93e5ef52d0b9314c1dc336/.local/lib/python3.9/site-packages (from neural-compressor->intel-extension-for-transformers) (9.0.0)\n",
      "Requirement already satisfied: requests in /home/u82c09ec9d93e5ef52d0b9314c1dc336/.local/lib/python3.9/site-packages (from neural-compressor->intel-extension-for-transformers) (2.32.3)\n",
      "Requirement already satisfied: scikit-learn in /opt/intel/oneapi/intelpython/lib/python3.9/site-packages (from neural-compressor->intel-extension-for-transformers) (1.4.0)\n",
      "Requirement already satisfied: pycocotools in /home/u82c09ec9d93e5ef52d0b9314c1dc336/.local/lib/python3.9/site-packages (from neural-compressor->intel-extension-for-transformers) (2.0.8)\n",
      "Requirement already satisfied: filelock in /home/u82c09ec9d93e5ef52d0b9314c1dc336/.local/lib/python3.9/site-packages (from transformers->intel-extension-for-transformers) (3.15.4)\n",
      "Requirement already satisfied: huggingface-hub<1.0,>=0.23.2 in /home/u82c09ec9d93e5ef52d0b9314c1dc336/.local/lib/python3.9/site-packages (from transformers->intel-extension-for-transformers) (0.23.4)\n",
      "Requirement already satisfied: regex!=2019.12.17 in /home/u82c09ec9d93e5ef52d0b9314c1dc336/.local/lib/python3.9/site-packages (from transformers->intel-extension-for-transformers) (2024.5.15)\n",
      "Requirement already satisfied: safetensors>=0.4.1 in /home/u82c09ec9d93e5ef52d0b9314c1dc336/.local/lib/python3.9/site-packages (from transformers->intel-extension-for-transformers) (0.4.3)\n",
      "Requirement already satisfied: tokenizers<0.20,>=0.19 in /home/u82c09ec9d93e5ef52d0b9314c1dc336/.local/lib/python3.9/site-packages (from transformers->intel-extension-for-transformers) (0.19.1)\n",
      "Requirement already satisfied: tqdm>=4.27 in /home/u82c09ec9d93e5ef52d0b9314c1dc336/.local/lib/python3.9/site-packages (from transformers->intel-extension-for-transformers) (4.66.4)\n",
      "Requirement already satisfied: wrapt<2,>=1.10 in /home/u82c09ec9d93e5ef52d0b9314c1dc336/.local/lib/python3.9/site-packages (from deprecated>=1.2.13->neural-compressor->intel-extension-for-transformers) (1.16.0)\n",
      "Requirement already satisfied: fsspec>=2023.5.0 in /home/u82c09ec9d93e5ef52d0b9314c1dc336/.local/lib/python3.9/site-packages (from huggingface-hub<1.0,>=0.23.2->transformers->intel-extension-for-transformers) (2024.5.0)\n",
      "Requirement already satisfied: typing-extensions>=3.7.4.3 in /opt/intel/oneapi/intelpython/lib/python3.9/site-packages (from huggingface-hub<1.0,>=0.23.2->transformers->intel-extension-for-transformers) (4.9.0)\n",
      "Requirement already satisfied: python-dateutil>=2.8.2 in /opt/intel/oneapi/intelpython/lib/python3.9/site-packages (from pandas->neural-compressor->intel-extension-for-transformers) (2.8.2)\n",
      "Requirement already satisfied: pytz>=2020.1 in /opt/intel/oneapi/intelpython/lib/python3.9/site-packages (from pandas->neural-compressor->intel-extension-for-transformers) (2024.1)\n",
      "Requirement already satisfied: tzdata>=2022.7 in /opt/intel/oneapi/intelpython/lib/python3.9/site-packages (from pandas->neural-compressor->intel-extension-for-transformers) (2023.4)\n",
      "Requirement already satisfied: wcwidth in /opt/intel/oneapi/intelpython/lib/python3.9/site-packages (from prettytable->neural-compressor->intel-extension-for-transformers) (0.2.13)\n",
      "Requirement already satisfied: matplotlib>=2.1.0 in /opt/intel/oneapi/intelpython/lib/python3.9/site-packages (from pycocotools->neural-compressor->intel-extension-for-transformers) (3.8.2)\n",
      "Requirement already satisfied: charset-normalizer<4,>=2 in /opt/intel/oneapi/intelpython/lib/python3.9/site-packages (from requests->neural-compressor->intel-extension-for-transformers) (3.3.2)\n",
      "Requirement already satisfied: idna<4,>=2.5 in /opt/intel/oneapi/intelpython/lib/python3.9/site-packages (from requests->neural-compressor->intel-extension-for-transformers) (3.6)\n",
      "Requirement already satisfied: urllib3<3,>=1.21.1 in /opt/intel/oneapi/intelpython/lib/python3.9/site-packages (from requests->neural-compressor->intel-extension-for-transformers) (2.2.1)\n",
      "Requirement already satisfied: certifi>=2017.4.17 in /opt/intel/oneapi/intelpython/lib/python3.9/site-packages (from requests->neural-compressor->intel-extension-for-transformers) (2024.2.2)\n",
      "Requirement already satisfied: scipy>=1.6.0 in /opt/intel/oneapi/intelpython/lib/python3.9/site-packages (from scikit-learn->neural-compressor->intel-extension-for-transformers) (1.10.1)\n",
      "Requirement already satisfied: joblib>=1.2.0 in /opt/intel/oneapi/intelpython/lib/python3.9/site-packages (from scikit-learn->neural-compressor->intel-extension-for-transformers) (1.3.2)\n",
      "Requirement already satisfied: threadpoolctl>=2.0.0 in /opt/intel/oneapi/intelpython/lib/python3.9/site-packages (from scikit-learn->neural-compressor->intel-extension-for-transformers) (3.3.0)\n",
      "Requirement already satisfied: contourpy>=1.0.1 in /opt/intel/oneapi/intelpython/lib/python3.9/site-packages (from matplotlib>=2.1.0->pycocotools->neural-compressor->intel-extension-for-transformers) (1.2.0)\n",
      "Requirement already satisfied: cycler>=0.10 in /opt/intel/oneapi/intelpython/lib/python3.9/site-packages (from matplotlib>=2.1.0->pycocotools->neural-compressor->intel-extension-for-transformers) (0.12.1)\n",
      "Requirement already satisfied: fonttools>=4.22.0 in /opt/intel/oneapi/intelpython/lib/python3.9/site-packages (from matplotlib>=2.1.0->pycocotools->neural-compressor->intel-extension-for-transformers) (4.47.2)\n",
      "Requirement already satisfied: kiwisolver>=1.3.1 in /opt/intel/oneapi/intelpython/lib/python3.9/site-packages (from matplotlib>=2.1.0->pycocotools->neural-compressor->intel-extension-for-transformers) (1.4.5)\n",
      "Requirement already satisfied: pyparsing>=2.3.1 in /opt/intel/oneapi/intelpython/lib/python3.9/site-packages (from matplotlib>=2.1.0->pycocotools->neural-compressor->intel-extension-for-transformers) (3.1.1)\n",
      "Requirement already satisfied: importlib-resources>=3.2.0 in /opt/intel/oneapi/intelpython/lib/python3.9/site-packages (from matplotlib>=2.1.0->pycocotools->neural-compressor->intel-extension-for-transformers) (6.1.1)\n",
      "Requirement already satisfied: six>=1.5 in /opt/intel/oneapi/intelpython/lib/python3.9/site-packages (from python-dateutil>=2.8.2->pandas->neural-compressor->intel-extension-for-transformers) (1.16.0)\n",
      "Requirement already satisfied: zipp>=3.1.0 in /opt/intel/oneapi/intelpython/lib/python3.9/site-packages (from importlib-resources>=3.2.0->matplotlib>=2.1.0->pycocotools->neural-compressor->intel-extension-for-transformers) (3.17.0)\n"
     ]
    }
   ],
   "source": [
    "!pip install intel-extension-for-transformers"
   ]
  },
  {
   "cell_type": "markdown",
   "metadata": {},
   "source": [
    "Install Requirements:"
   ]
  },
  {
   "cell_type": "code",
   "execution_count": 2,
   "metadata": {},
   "outputs": [
    {
     "name": "stdout",
     "output_type": "stream",
     "text": [
      "Cloning into 'intel-extension-for-transformers'...\n",
      "remote: Enumerating objects: 1681988, done.\u001b[K\n",
      "remote: Counting objects: 100% (116636/116636), done.\u001b[K\n",
      "remote: Compressing objects: 100% (13570/13570), done.\u001b[K\n",
      "remote: Total 1681988 (delta 62993), reused 113493 (delta 60224), pack-reused 1565352\u001b[K\n",
      "Receiving objects: 100% (1681988/1681988), 594.74 MiB | 32.06 MiB/s, done.\n",
      "Resolving deltas: 100% (898909/898909), done.\n",
      "Updating files: 100% (3217/3217), done.\n"
     ]
    }
   ],
   "source": [
    "!git clone https://github.com/intel/intel-extension-for-transformers.git"
   ]
  },
  {
   "cell_type": "code",
   "execution_count": 3,
   "metadata": {},
   "outputs": [
    {
     "name": "stdout",
     "output_type": "stream",
     "text": [
      "/home/u82c09ec9d93e5ef52d0b9314c1dc336/Training/AI/GenAI/intel-extension-for-transformers/intel_extension_for_transformers/neural_chat/docs/notebooks/intel-extension-for-transformers/intel_extension_for_transformers/neural_chat\n",
      "Defaulting to user installation because normal site-packages is not writeable\n",
      "Looking in indexes: https://pypi.org/simple, https://pytorch-extension.intel.com/release-whl/stable/cpu/us/\n",
      "Requirement already satisfied: accelerate==0.28.0 in /home/u82c09ec9d93e5ef52d0b9314c1dc336/.local/lib/python3.9/site-packages (from -r requirements_cpu.txt (line 2)) (0.28.0)\n",
      "Requirement already satisfied: cchardet in /home/u82c09ec9d93e5ef52d0b9314c1dc336/.local/lib/python3.9/site-packages (from -r requirements_cpu.txt (line 3)) (2.1.7)\n",
      "Requirement already satisfied: einops in /home/u82c09ec9d93e5ef52d0b9314c1dc336/.local/lib/python3.9/site-packages (from -r requirements_cpu.txt (line 4)) (0.8.0)\n",
      "Requirement already satisfied: evaluate in /home/u82c09ec9d93e5ef52d0b9314c1dc336/.local/lib/python3.9/site-packages (from -r requirements_cpu.txt (line 5)) (0.4.2)\n",
      "Requirement already satisfied: fastapi in /home/u82c09ec9d93e5ef52d0b9314c1dc336/.local/lib/python3.9/site-packages (from -r requirements_cpu.txt (line 6)) (0.111.0)\n",
      "Collecting fschat==0.2.32 (from -r requirements_cpu.txt (line 7))\n",
      "  Using cached fschat-0.2.32-py3-none-any.whl.metadata (20 kB)\n",
      "Requirement already satisfied: huggingface_hub in /home/u82c09ec9d93e5ef52d0b9314c1dc336/.local/lib/python3.9/site-packages (from -r requirements_cpu.txt (line 8)) (0.23.4)\n",
      "Requirement already satisfied: intel_extension_for_pytorch==2.3.0 in /home/u82c09ec9d93e5ef52d0b9314c1dc336/.local/lib/python3.9/site-packages (from -r requirements_cpu.txt (line 9)) (2.3.0+cpu)\n",
      "Requirement already satisfied: lm-eval==0.4.3 in /home/u82c09ec9d93e5ef52d0b9314c1dc336/.local/lib/python3.9/site-packages (from -r requirements_cpu.txt (line 10)) (0.4.3)\n",
      "Requirement already satisfied: neural-compressor in /home/u82c09ec9d93e5ef52d0b9314c1dc336/.local/lib/python3.9/site-packages (from -r requirements_cpu.txt (line 11)) (2.6)\n",
      "Requirement already satisfied: neural_speed==1.0a0 in /home/u82c09ec9d93e5ef52d0b9314c1dc336/.local/lib/python3.9/site-packages (from -r requirements_cpu.txt (line 12)) (1.0a0)\n",
      "Requirement already satisfied: numpy==1.23.5 in /home/u82c09ec9d93e5ef52d0b9314c1dc336/.local/lib/python3.9/site-packages (from -r requirements_cpu.txt (line 13)) (1.23.5)\n",
      "Requirement already satisfied: oneccl_bind_pt in /home/u82c09ec9d93e5ef52d0b9314c1dc336/.local/lib/python3.9/site-packages (from -r requirements_cpu.txt (line 14)) (2.3.0+cpu)\n",
      "Requirement already satisfied: optimum in /home/u82c09ec9d93e5ef52d0b9314c1dc336/.local/lib/python3.9/site-packages (from -r requirements_cpu.txt (line 15)) (1.21.2)\n",
      "Requirement already satisfied: optimum-intel in /home/u82c09ec9d93e5ef52d0b9314c1dc336/.local/lib/python3.9/site-packages (from -r requirements_cpu.txt (line 16)) (1.18.1)\n",
      "Requirement already satisfied: peft==0.6.2 in /home/u82c09ec9d93e5ef52d0b9314c1dc336/.local/lib/python3.9/site-packages (from -r requirements_cpu.txt (line 17)) (0.6.2)\n",
      "Requirement already satisfied: pydantic==1.10.13 in /home/u82c09ec9d93e5ef52d0b9314c1dc336/.local/lib/python3.9/site-packages (from -r requirements_cpu.txt (line 18)) (1.10.13)\n",
      "Requirement already satisfied: python-dotenv in /home/u82c09ec9d93e5ef52d0b9314c1dc336/.local/lib/python3.9/site-packages (from -r requirements_cpu.txt (line 19)) (1.0.1)\n",
      "Requirement already satisfied: python-multipart in /home/u82c09ec9d93e5ef52d0b9314c1dc336/.local/lib/python3.9/site-packages (from -r requirements_cpu.txt (line 20)) (0.0.9)\n",
      "Requirement already satisfied: rouge_score in /home/u82c09ec9d93e5ef52d0b9314c1dc336/.local/lib/python3.9/site-packages (from -r requirements_cpu.txt (line 21)) (0.1.2)\n",
      "Requirement already satisfied: sacremoses in /home/u82c09ec9d93e5ef52d0b9314c1dc336/.local/lib/python3.9/site-packages (from -r requirements_cpu.txt (line 22)) (0.1.1)\n",
      "Requirement already satisfied: shortuuid in /home/u82c09ec9d93e5ef52d0b9314c1dc336/.local/lib/python3.9/site-packages (from -r requirements_cpu.txt (line 23)) (1.0.13)\n",
      "Requirement already satisfied: starlette in /home/u82c09ec9d93e5ef52d0b9314c1dc336/.local/lib/python3.9/site-packages (from -r requirements_cpu.txt (line 24)) (0.37.2)\n",
      "Requirement already satisfied: tiktoken==0.4.0 in /home/u82c09ec9d93e5ef52d0b9314c1dc336/.local/lib/python3.9/site-packages (from -r requirements_cpu.txt (line 25)) (0.4.0)\n",
      "Requirement already satisfied: torch==2.3.0 in /home/u82c09ec9d93e5ef52d0b9314c1dc336/.local/lib/python3.9/site-packages (from -r requirements_cpu.txt (line 26)) (2.3.0)\n",
      "Requirement already satisfied: torchaudio==2.3.0 in /home/u82c09ec9d93e5ef52d0b9314c1dc336/.local/lib/python3.9/site-packages (from -r requirements_cpu.txt (line 27)) (2.3.0)\n",
      "Requirement already satisfied: transformers>=4.35.2 in /home/u82c09ec9d93e5ef52d0b9314c1dc336/.local/lib/python3.9/site-packages (from -r requirements_cpu.txt (line 28)) (4.42.4)\n",
      "Requirement already satisfied: transformers_stream_generator in /home/u82c09ec9d93e5ef52d0b9314c1dc336/.local/lib/python3.9/site-packages (from -r requirements_cpu.txt (line 29)) (0.0.5)\n",
      "Requirement already satisfied: uvicorn in /home/u82c09ec9d93e5ef52d0b9314c1dc336/.local/lib/python3.9/site-packages (from -r requirements_cpu.txt (line 30)) (0.30.1)\n",
      "Requirement already satisfied: yacs in /home/u82c09ec9d93e5ef52d0b9314c1dc336/.local/lib/python3.9/site-packages (from -r requirements_cpu.txt (line 31)) (0.1.8)\n",
      "Requirement already satisfied: packaging>=20.0 in /opt/intel/oneapi/intelpython/lib/python3.9/site-packages (from accelerate==0.28.0->-r requirements_cpu.txt (line 2)) (23.2)\n",
      "Requirement already satisfied: psutil in /opt/intel/oneapi/intelpython/lib/python3.9/site-packages (from accelerate==0.28.0->-r requirements_cpu.txt (line 2)) (5.9.8)\n",
      "Requirement already satisfied: pyyaml in /opt/intel/oneapi/intelpython/lib/python3.9/site-packages (from accelerate==0.28.0->-r requirements_cpu.txt (line 2)) (6.0.1)\n",
      "Requirement already satisfied: safetensors>=0.3.1 in /home/u82c09ec9d93e5ef52d0b9314c1dc336/.local/lib/python3.9/site-packages (from accelerate==0.28.0->-r requirements_cpu.txt (line 2)) (0.4.3)\n",
      "Requirement already satisfied: aiohttp in /home/u82c09ec9d93e5ef52d0b9314c1dc336/.local/lib/python3.9/site-packages (from fschat==0.2.32->-r requirements_cpu.txt (line 7)) (3.9.5)\n",
      "Requirement already satisfied: httpx in /opt/intel/oneapi/intelpython/lib/python3.9/site-packages (from fschat==0.2.32->-r requirements_cpu.txt (line 7)) (0.27.0)\n",
      "Requirement already satisfied: markdown2[all] in /home/u82c09ec9d93e5ef52d0b9314c1dc336/.local/lib/python3.9/site-packages (from fschat==0.2.32->-r requirements_cpu.txt (line 7)) (2.5.0)\n",
      "Requirement already satisfied: nh3 in /home/u82c09ec9d93e5ef52d0b9314c1dc336/.local/lib/python3.9/site-packages (from fschat==0.2.32->-r requirements_cpu.txt (line 7)) (0.2.18)\n",
      "Requirement already satisfied: prompt-toolkit>=3.0.0 in /opt/intel/oneapi/intelpython/lib/python3.9/site-packages (from fschat==0.2.32->-r requirements_cpu.txt (line 7)) (3.0.42)\n",
      "Requirement already satisfied: requests in /home/u82c09ec9d93e5ef52d0b9314c1dc336/.local/lib/python3.9/site-packages (from fschat==0.2.32->-r requirements_cpu.txt (line 7)) (2.32.3)\n",
      "Requirement already satisfied: rich>=10.0.0 in /home/u82c09ec9d93e5ef52d0b9314c1dc336/.local/lib/python3.9/site-packages (from fschat==0.2.32->-r requirements_cpu.txt (line 7)) (13.7.1)\n",
      "Requirement already satisfied: datasets>=2.16.0 in /home/u82c09ec9d93e5ef52d0b9314c1dc336/.local/lib/python3.9/site-packages (from lm-eval==0.4.3->-r requirements_cpu.txt (line 10)) (2.20.0)\n",
      "Requirement already satisfied: jsonlines in /home/u82c09ec9d93e5ef52d0b9314c1dc336/.local/lib/python3.9/site-packages (from lm-eval==0.4.3->-r requirements_cpu.txt (line 10)) (4.0.0)\n",
      "Requirement already satisfied: numexpr in /home/u82c09ec9d93e5ef52d0b9314c1dc336/.local/lib/python3.9/site-packages (from lm-eval==0.4.3->-r requirements_cpu.txt (line 10)) (2.10.1)\n",
      "Requirement already satisfied: pybind11>=2.6.2 in /home/u82c09ec9d93e5ef52d0b9314c1dc336/.local/lib/python3.9/site-packages (from lm-eval==0.4.3->-r requirements_cpu.txt (line 10)) (2.13.1)\n",
      "Requirement already satisfied: pytablewriter in /home/u82c09ec9d93e5ef52d0b9314c1dc336/.local/lib/python3.9/site-packages (from lm-eval==0.4.3->-r requirements_cpu.txt (line 10)) (1.2.0)\n",
      "Requirement already satisfied: sacrebleu>=1.5.0 in /home/u82c09ec9d93e5ef52d0b9314c1dc336/.local/lib/python3.9/site-packages (from lm-eval==0.4.3->-r requirements_cpu.txt (line 10)) (2.4.2)\n",
      "Requirement already satisfied: scikit-learn>=0.24.1 in /opt/intel/oneapi/intelpython/lib/python3.9/site-packages (from lm-eval==0.4.3->-r requirements_cpu.txt (line 10)) (1.4.0)\n",
      "Requirement already satisfied: sqlitedict in /home/u82c09ec9d93e5ef52d0b9314c1dc336/.local/lib/python3.9/site-packages (from lm-eval==0.4.3->-r requirements_cpu.txt (line 10)) (2.1.0)\n",
      "Requirement already satisfied: tqdm-multiprocess in /home/u82c09ec9d93e5ef52d0b9314c1dc336/.local/lib/python3.9/site-packages (from lm-eval==0.4.3->-r requirements_cpu.txt (line 10)) (0.0.11)\n",
      "Requirement already satisfied: zstandard in /opt/intel/oneapi/intelpython/lib/python3.9/site-packages (from lm-eval==0.4.3->-r requirements_cpu.txt (line 10)) (0.22.0)\n",
      "Requirement already satisfied: dill in /home/u82c09ec9d93e5ef52d0b9314c1dc336/.local/lib/python3.9/site-packages (from lm-eval==0.4.3->-r requirements_cpu.txt (line 10)) (0.3.8)\n",
      "Requirement already satisfied: word2number in /home/u82c09ec9d93e5ef52d0b9314c1dc336/.local/lib/python3.9/site-packages (from lm-eval==0.4.3->-r requirements_cpu.txt (line 10)) (1.1)\n",
      "Requirement already satisfied: more-itertools in /home/u82c09ec9d93e5ef52d0b9314c1dc336/.local/lib/python3.9/site-packages (from lm-eval==0.4.3->-r requirements_cpu.txt (line 10)) (10.3.0)\n",
      "Requirement already satisfied: tqdm in /home/u82c09ec9d93e5ef52d0b9314c1dc336/.local/lib/python3.9/site-packages (from peft==0.6.2->-r requirements_cpu.txt (line 17)) (4.66.4)\n",
      "Requirement already satisfied: typing-extensions>=4.2.0 in /opt/intel/oneapi/intelpython/lib/python3.9/site-packages (from pydantic==1.10.13->-r requirements_cpu.txt (line 18)) (4.9.0)\n",
      "Requirement already satisfied: regex>=2022.1.18 in /home/u82c09ec9d93e5ef52d0b9314c1dc336/.local/lib/python3.9/site-packages (from tiktoken==0.4.0->-r requirements_cpu.txt (line 25)) (2024.5.15)\n",
      "Requirement already satisfied: filelock in /home/u82c09ec9d93e5ef52d0b9314c1dc336/.local/lib/python3.9/site-packages (from torch==2.3.0->-r requirements_cpu.txt (line 26)) (3.15.4)\n",
      "Requirement already satisfied: sympy in /home/u82c09ec9d93e5ef52d0b9314c1dc336/.local/lib/python3.9/site-packages (from torch==2.3.0->-r requirements_cpu.txt (line 26)) (1.13.0)\n",
      "Requirement already satisfied: networkx in /home/u82c09ec9d93e5ef52d0b9314c1dc336/.local/lib/python3.9/site-packages (from torch==2.3.0->-r requirements_cpu.txt (line 26)) (3.2.1)\n",
      "Requirement already satisfied: jinja2 in /opt/intel/oneapi/intelpython/lib/python3.9/site-packages (from torch==2.3.0->-r requirements_cpu.txt (line 26)) (3.1.3)\n",
      "Requirement already satisfied: fsspec in /home/u82c09ec9d93e5ef52d0b9314c1dc336/.local/lib/python3.9/site-packages (from torch==2.3.0->-r requirements_cpu.txt (line 26)) (2024.5.0)\n",
      "Requirement already satisfied: nvidia-cuda-nvrtc-cu12==12.1.105 in /home/u82c09ec9d93e5ef52d0b9314c1dc336/.local/lib/python3.9/site-packages (from torch==2.3.0->-r requirements_cpu.txt (line 26)) (12.1.105)\n",
      "Requirement already satisfied: nvidia-cuda-runtime-cu12==12.1.105 in /home/u82c09ec9d93e5ef52d0b9314c1dc336/.local/lib/python3.9/site-packages (from torch==2.3.0->-r requirements_cpu.txt (line 26)) (12.1.105)\n",
      "Requirement already satisfied: nvidia-cuda-cupti-cu12==12.1.105 in /home/u82c09ec9d93e5ef52d0b9314c1dc336/.local/lib/python3.9/site-packages (from torch==2.3.0->-r requirements_cpu.txt (line 26)) (12.1.105)\n",
      "Requirement already satisfied: nvidia-cudnn-cu12==8.9.2.26 in /home/u82c09ec9d93e5ef52d0b9314c1dc336/.local/lib/python3.9/site-packages (from torch==2.3.0->-r requirements_cpu.txt (line 26)) (8.9.2.26)\n",
      "Requirement already satisfied: nvidia-cublas-cu12==12.1.3.1 in /home/u82c09ec9d93e5ef52d0b9314c1dc336/.local/lib/python3.9/site-packages (from torch==2.3.0->-r requirements_cpu.txt (line 26)) (12.1.3.1)\n",
      "Requirement already satisfied: nvidia-cufft-cu12==11.0.2.54 in /home/u82c09ec9d93e5ef52d0b9314c1dc336/.local/lib/python3.9/site-packages (from torch==2.3.0->-r requirements_cpu.txt (line 26)) (11.0.2.54)\n",
      "Requirement already satisfied: nvidia-curand-cu12==10.3.2.106 in /home/u82c09ec9d93e5ef52d0b9314c1dc336/.local/lib/python3.9/site-packages (from torch==2.3.0->-r requirements_cpu.txt (line 26)) (10.3.2.106)\n",
      "Requirement already satisfied: nvidia-cusolver-cu12==11.4.5.107 in /home/u82c09ec9d93e5ef52d0b9314c1dc336/.local/lib/python3.9/site-packages (from torch==2.3.0->-r requirements_cpu.txt (line 26)) (11.4.5.107)\n",
      "Requirement already satisfied: nvidia-cusparse-cu12==12.1.0.106 in /home/u82c09ec9d93e5ef52d0b9314c1dc336/.local/lib/python3.9/site-packages (from torch==2.3.0->-r requirements_cpu.txt (line 26)) (12.1.0.106)\n",
      "Requirement already satisfied: nvidia-nccl-cu12==2.20.5 in /home/u82c09ec9d93e5ef52d0b9314c1dc336/.local/lib/python3.9/site-packages (from torch==2.3.0->-r requirements_cpu.txt (line 26)) (2.20.5)\n",
      "Requirement already satisfied: nvidia-nvtx-cu12==12.1.105 in /home/u82c09ec9d93e5ef52d0b9314c1dc336/.local/lib/python3.9/site-packages (from torch==2.3.0->-r requirements_cpu.txt (line 26)) (12.1.105)\n",
      "Requirement already satisfied: triton==2.3.0 in /home/u82c09ec9d93e5ef52d0b9314c1dc336/.local/lib/python3.9/site-packages (from torch==2.3.0->-r requirements_cpu.txt (line 26)) (2.3.0)\n",
      "Requirement already satisfied: nvidia-nvjitlink-cu12 in /home/u82c09ec9d93e5ef52d0b9314c1dc336/.local/lib/python3.9/site-packages (from nvidia-cusolver-cu12==11.4.5.107->torch==2.3.0->-r requirements_cpu.txt (line 26)) (12.5.82)\n",
      "Requirement already satisfied: pandas in /opt/intel/oneapi/intelpython/lib/python3.9/site-packages (from evaluate->-r requirements_cpu.txt (line 5)) (2.2.2)\n",
      "Requirement already satisfied: xxhash in /home/u82c09ec9d93e5ef52d0b9314c1dc336/.local/lib/python3.9/site-packages (from evaluate->-r requirements_cpu.txt (line 5)) (3.4.1)\n",
      "Requirement already satisfied: multiprocess in /home/u82c09ec9d93e5ef52d0b9314c1dc336/.local/lib/python3.9/site-packages (from evaluate->-r requirements_cpu.txt (line 5)) (0.70.16)\n",
      "Requirement already satisfied: fastapi-cli>=0.0.2 in /home/u82c09ec9d93e5ef52d0b9314c1dc336/.local/lib/python3.9/site-packages (from fastapi->-r requirements_cpu.txt (line 6)) (0.0.4)\n",
      "Requirement already satisfied: ujson!=4.0.2,!=4.1.0,!=4.2.0,!=4.3.0,!=5.0.0,!=5.1.0,>=4.0.1 in /home/u82c09ec9d93e5ef52d0b9314c1dc336/.local/lib/python3.9/site-packages (from fastapi->-r requirements_cpu.txt (line 6)) (5.10.0)\n",
      "Requirement already satisfied: orjson>=3.2.1 in /home/u82c09ec9d93e5ef52d0b9314c1dc336/.local/lib/python3.9/site-packages (from fastapi->-r requirements_cpu.txt (line 6)) (3.10.6)\n",
      "Requirement already satisfied: email_validator>=2.0.0 in /home/u82c09ec9d93e5ef52d0b9314c1dc336/.local/lib/python3.9/site-packages (from fastapi->-r requirements_cpu.txt (line 6)) (2.2.0)\n",
      "Requirement already satisfied: deprecated>=1.2.13 in /home/u82c09ec9d93e5ef52d0b9314c1dc336/.local/lib/python3.9/site-packages (from neural-compressor->-r requirements_cpu.txt (line 11)) (1.2.14)\n",
      "Requirement already satisfied: opencv-python-headless in /home/u82c09ec9d93e5ef52d0b9314c1dc336/.local/lib/python3.9/site-packages (from neural-compressor->-r requirements_cpu.txt (line 11)) (4.10.0.84)\n",
      "Requirement already satisfied: Pillow in /opt/intel/oneapi/intelpython/lib/python3.9/site-packages (from neural-compressor->-r requirements_cpu.txt (line 11)) (10.2.0)\n",
      "Requirement already satisfied: prettytable in /home/u82c09ec9d93e5ef52d0b9314c1dc336/.local/lib/python3.9/site-packages (from neural-compressor->-r requirements_cpu.txt (line 11)) (3.10.2)\n",
      "Requirement already satisfied: py-cpuinfo in /home/u82c09ec9d93e5ef52d0b9314c1dc336/.local/lib/python3.9/site-packages (from neural-compressor->-r requirements_cpu.txt (line 11)) (9.0.0)\n",
      "Requirement already satisfied: schema in /home/u82c09ec9d93e5ef52d0b9314c1dc336/.local/lib/python3.9/site-packages (from neural-compressor->-r requirements_cpu.txt (line 11)) (0.7.7)\n",
      "Requirement already satisfied: pycocotools in /home/u82c09ec9d93e5ef52d0b9314c1dc336/.local/lib/python3.9/site-packages (from neural-compressor->-r requirements_cpu.txt (line 11)) (2.0.8)\n",
      "Requirement already satisfied: coloredlogs in /home/u82c09ec9d93e5ef52d0b9314c1dc336/.local/lib/python3.9/site-packages (from optimum->-r requirements_cpu.txt (line 15)) (15.0.1)\n",
      "Requirement already satisfied: sentencepiece in /home/u82c09ec9d93e5ef52d0b9314c1dc336/.local/lib/python3.9/site-packages (from optimum-intel->-r requirements_cpu.txt (line 16)) (0.2.0)\n",
      "Requirement already satisfied: setuptools in /opt/intel/oneapi/intelpython/lib/python3.9/site-packages (from optimum-intel->-r requirements_cpu.txt (line 16)) (69.1.0)\n",
      "Requirement already satisfied: scipy in /opt/intel/oneapi/intelpython/lib/python3.9/site-packages (from optimum-intel->-r requirements_cpu.txt (line 16)) (1.10.1)\n",
      "Requirement already satisfied: onnx in /home/u82c09ec9d93e5ef52d0b9314c1dc336/.local/lib/python3.9/site-packages (from optimum-intel->-r requirements_cpu.txt (line 16)) (1.16.1)\n",
      "Requirement already satisfied: absl-py in /home/u82c09ec9d93e5ef52d0b9314c1dc336/.local/lib/python3.9/site-packages (from rouge_score->-r requirements_cpu.txt (line 21)) (2.1.0)\n",
      "Requirement already satisfied: nltk in /home/u82c09ec9d93e5ef52d0b9314c1dc336/.local/lib/python3.9/site-packages (from rouge_score->-r requirements_cpu.txt (line 21)) (3.8.1)\n",
      "Requirement already satisfied: six>=1.14.0 in /opt/intel/oneapi/intelpython/lib/python3.9/site-packages (from rouge_score->-r requirements_cpu.txt (line 21)) (1.16.0)\n",
      "Requirement already satisfied: click in /home/u82c09ec9d93e5ef52d0b9314c1dc336/.local/lib/python3.9/site-packages (from sacremoses->-r requirements_cpu.txt (line 22)) (8.1.7)\n",
      "Requirement already satisfied: joblib in /opt/intel/oneapi/intelpython/lib/python3.9/site-packages (from sacremoses->-r requirements_cpu.txt (line 22)) (1.3.2)\n",
      "Requirement already satisfied: anyio<5,>=3.4.0 in /opt/intel/oneapi/intelpython/lib/python3.9/site-packages (from starlette->-r requirements_cpu.txt (line 24)) (4.3.0)\n",
      "Requirement already satisfied: tokenizers<0.20,>=0.19 in /home/u82c09ec9d93e5ef52d0b9314c1dc336/.local/lib/python3.9/site-packages (from transformers>=4.35.2->-r requirements_cpu.txt (line 28)) (0.19.1)\n",
      "Requirement already satisfied: h11>=0.8 in /opt/intel/oneapi/intelpython/lib/python3.9/site-packages (from uvicorn->-r requirements_cpu.txt (line 30)) (0.14.0)\n",
      "Requirement already satisfied: idna>=2.8 in /opt/intel/oneapi/intelpython/lib/python3.9/site-packages (from anyio<5,>=3.4.0->starlette->-r requirements_cpu.txt (line 24)) (3.6)\n",
      "Requirement already satisfied: sniffio>=1.1 in /opt/intel/oneapi/intelpython/lib/python3.9/site-packages (from anyio<5,>=3.4.0->starlette->-r requirements_cpu.txt (line 24)) (1.3.1)\n",
      "Requirement already satisfied: exceptiongroup>=1.0.2 in /opt/intel/oneapi/intelpython/lib/python3.9/site-packages (from anyio<5,>=3.4.0->starlette->-r requirements_cpu.txt (line 24)) (1.2.0)\n",
      "Requirement already satisfied: pyarrow>=15.0.0 in /home/u82c09ec9d93e5ef52d0b9314c1dc336/.local/lib/python3.9/site-packages (from datasets>=2.16.0->lm-eval==0.4.3->-r requirements_cpu.txt (line 10)) (16.1.0)\n",
      "Requirement already satisfied: pyarrow-hotfix in /home/u82c09ec9d93e5ef52d0b9314c1dc336/.local/lib/python3.9/site-packages (from datasets>=2.16.0->lm-eval==0.4.3->-r requirements_cpu.txt (line 10)) (0.6)\n",
      "Requirement already satisfied: wrapt<2,>=1.10 in /home/u82c09ec9d93e5ef52d0b9314c1dc336/.local/lib/python3.9/site-packages (from deprecated>=1.2.13->neural-compressor->-r requirements_cpu.txt (line 11)) (1.16.0)\n",
      "Requirement already satisfied: dnspython>=2.0.0 in /home/u82c09ec9d93e5ef52d0b9314c1dc336/.local/lib/python3.9/site-packages (from email_validator>=2.0.0->fastapi->-r requirements_cpu.txt (line 6)) (2.6.1)\n",
      "Requirement already satisfied: typer>=0.12.3 in /home/u82c09ec9d93e5ef52d0b9314c1dc336/.local/lib/python3.9/site-packages (from fastapi-cli>=0.0.2->fastapi->-r requirements_cpu.txt (line 6)) (0.12.3)\n",
      "Requirement already satisfied: aiosignal>=1.1.2 in /home/u82c09ec9d93e5ef52d0b9314c1dc336/.local/lib/python3.9/site-packages (from aiohttp->fschat==0.2.32->-r requirements_cpu.txt (line 7)) (1.3.1)\n",
      "Requirement already satisfied: attrs>=17.3.0 in /opt/intel/oneapi/intelpython/lib/python3.9/site-packages (from aiohttp->fschat==0.2.32->-r requirements_cpu.txt (line 7)) (23.2.0)\n",
      "Requirement already satisfied: frozenlist>=1.1.1 in /home/u82c09ec9d93e5ef52d0b9314c1dc336/.local/lib/python3.9/site-packages (from aiohttp->fschat==0.2.32->-r requirements_cpu.txt (line 7)) (1.4.1)\n",
      "Requirement already satisfied: multidict<7.0,>=4.5 in /home/u82c09ec9d93e5ef52d0b9314c1dc336/.local/lib/python3.9/site-packages (from aiohttp->fschat==0.2.32->-r requirements_cpu.txt (line 7)) (6.0.5)\n",
      "Requirement already satisfied: yarl<2.0,>=1.0 in /home/u82c09ec9d93e5ef52d0b9314c1dc336/.local/lib/python3.9/site-packages (from aiohttp->fschat==0.2.32->-r requirements_cpu.txt (line 7)) (1.9.4)\n",
      "Requirement already satisfied: async-timeout<5.0,>=4.0 in /home/u82c09ec9d93e5ef52d0b9314c1dc336/.local/lib/python3.9/site-packages (from aiohttp->fschat==0.2.32->-r requirements_cpu.txt (line 7)) (4.0.3)\n",
      "Requirement already satisfied: certifi in /opt/intel/oneapi/intelpython/lib/python3.9/site-packages (from httpx->fschat==0.2.32->-r requirements_cpu.txt (line 7)) (2024.2.2)\n",
      "Requirement already satisfied: httpcore==1.* in /opt/intel/oneapi/intelpython/lib/python3.9/site-packages (from httpx->fschat==0.2.32->-r requirements_cpu.txt (line 7)) (1.0.4)\n",
      "Requirement already satisfied: MarkupSafe>=2.0 in /opt/intel/oneapi/intelpython/lib/python3.9/site-packages (from jinja2->torch==2.3.0->-r requirements_cpu.txt (line 26)) (2.1.4)\n",
      "Requirement already satisfied: wcwidth in /opt/intel/oneapi/intelpython/lib/python3.9/site-packages (from prompt-toolkit>=3.0.0->fschat==0.2.32->-r requirements_cpu.txt (line 7)) (0.2.13)\n",
      "Requirement already satisfied: charset-normalizer<4,>=2 in /opt/intel/oneapi/intelpython/lib/python3.9/site-packages (from requests->fschat==0.2.32->-r requirements_cpu.txt (line 7)) (3.3.2)\n",
      "Requirement already satisfied: urllib3<3,>=1.21.1 in /opt/intel/oneapi/intelpython/lib/python3.9/site-packages (from requests->fschat==0.2.32->-r requirements_cpu.txt (line 7)) (2.2.1)\n",
      "Requirement already satisfied: markdown-it-py>=2.2.0 in /home/u82c09ec9d93e5ef52d0b9314c1dc336/.local/lib/python3.9/site-packages (from rich>=10.0.0->fschat==0.2.32->-r requirements_cpu.txt (line 7)) (3.0.0)\n",
      "Requirement already satisfied: pygments<3.0.0,>=2.13.0 in /opt/intel/oneapi/intelpython/lib/python3.9/site-packages (from rich>=10.0.0->fschat==0.2.32->-r requirements_cpu.txt (line 7)) (2.17.2)\n",
      "Requirement already satisfied: portalocker in /home/u82c09ec9d93e5ef52d0b9314c1dc336/.local/lib/python3.9/site-packages (from sacrebleu>=1.5.0->lm-eval==0.4.3->-r requirements_cpu.txt (line 10)) (2.10.1)\n",
      "Requirement already satisfied: tabulate>=0.8.9 in /home/u82c09ec9d93e5ef52d0b9314c1dc336/.local/lib/python3.9/site-packages (from sacrebleu>=1.5.0->lm-eval==0.4.3->-r requirements_cpu.txt (line 10)) (0.9.0)\n",
      "Requirement already satisfied: colorama in /opt/intel/oneapi/intelpython/lib/python3.9/site-packages (from sacrebleu>=1.5.0->lm-eval==0.4.3->-r requirements_cpu.txt (line 10)) (0.4.6)\n",
      "Requirement already satisfied: lxml in /home/u82c09ec9d93e5ef52d0b9314c1dc336/.local/lib/python3.9/site-packages (from sacrebleu>=1.5.0->lm-eval==0.4.3->-r requirements_cpu.txt (line 10)) (5.2.2)\n",
      "Requirement already satisfied: threadpoolctl>=2.0.0 in /opt/intel/oneapi/intelpython/lib/python3.9/site-packages (from scikit-learn>=0.24.1->lm-eval==0.4.3->-r requirements_cpu.txt (line 10)) (3.3.0)\n",
      "Requirement already satisfied: protobuf in /home/u82c09ec9d93e5ef52d0b9314c1dc336/.local/lib/python3.9/site-packages (from transformers[sentencepiece]<4.43.0,>=4.26.0->optimum->-r requirements_cpu.txt (line 15)) (4.25.3)\n",
      "Requirement already satisfied: httptools>=0.5.0 in /home/u82c09ec9d93e5ef52d0b9314c1dc336/.local/lib/python3.9/site-packages (from uvicorn[standard]>=0.12.0->fastapi->-r requirements_cpu.txt (line 6)) (0.6.1)\n",
      "Requirement already satisfied: uvloop!=0.15.0,!=0.15.1,>=0.14.0 in /home/u82c09ec9d93e5ef52d0b9314c1dc336/.local/lib/python3.9/site-packages (from uvicorn[standard]>=0.12.0->fastapi->-r requirements_cpu.txt (line 6)) (0.19.0)\n",
      "Requirement already satisfied: watchfiles>=0.13 in /home/u82c09ec9d93e5ef52d0b9314c1dc336/.local/lib/python3.9/site-packages (from uvicorn[standard]>=0.12.0->fastapi->-r requirements_cpu.txt (line 6)) (0.22.0)\n",
      "Requirement already satisfied: websockets>=10.4 in /home/u82c09ec9d93e5ef52d0b9314c1dc336/.local/lib/python3.9/site-packages (from uvicorn[standard]>=0.12.0->fastapi->-r requirements_cpu.txt (line 6)) (12.0)\n",
      "Requirement already satisfied: humanfriendly>=9.1 in /home/u82c09ec9d93e5ef52d0b9314c1dc336/.local/lib/python3.9/site-packages (from coloredlogs->optimum->-r requirements_cpu.txt (line 15)) (10.0)\n",
      "Requirement already satisfied: wavedrom in /home/u82c09ec9d93e5ef52d0b9314c1dc336/.local/lib/python3.9/site-packages (from markdown2[all]->fschat==0.2.32->-r requirements_cpu.txt (line 7)) (2.0.3.post3)\n",
      "Requirement already satisfied: latex2mathml in /home/u82c09ec9d93e5ef52d0b9314c1dc336/.local/lib/python3.9/site-packages (from markdown2[all]->fschat==0.2.32->-r requirements_cpu.txt (line 7)) (3.77.0)\n",
      "Requirement already satisfied: python-dateutil>=2.8.2 in /opt/intel/oneapi/intelpython/lib/python3.9/site-packages (from pandas->evaluate->-r requirements_cpu.txt (line 5)) (2.8.2)\n",
      "Requirement already satisfied: pytz>=2020.1 in /opt/intel/oneapi/intelpython/lib/python3.9/site-packages (from pandas->evaluate->-r requirements_cpu.txt (line 5)) (2024.1)\n",
      "Requirement already satisfied: tzdata>=2022.7 in /opt/intel/oneapi/intelpython/lib/python3.9/site-packages (from pandas->evaluate->-r requirements_cpu.txt (line 5)) (2023.4)\n",
      "Requirement already satisfied: matplotlib>=2.1.0 in /opt/intel/oneapi/intelpython/lib/python3.9/site-packages (from pycocotools->neural-compressor->-r requirements_cpu.txt (line 11)) (3.8.2)\n",
      "Requirement already satisfied: DataProperty<2,>=1.0.1 in /home/u82c09ec9d93e5ef52d0b9314c1dc336/.local/lib/python3.9/site-packages (from pytablewriter->lm-eval==0.4.3->-r requirements_cpu.txt (line 10)) (1.0.1)\n",
      "Requirement already satisfied: mbstrdecoder<2,>=1.0.0 in /home/u82c09ec9d93e5ef52d0b9314c1dc336/.local/lib/python3.9/site-packages (from pytablewriter->lm-eval==0.4.3->-r requirements_cpu.txt (line 10)) (1.1.3)\n",
      "Requirement already satisfied: pathvalidate<4,>=2.3.0 in /home/u82c09ec9d93e5ef52d0b9314c1dc336/.local/lib/python3.9/site-packages (from pytablewriter->lm-eval==0.4.3->-r requirements_cpu.txt (line 10)) (3.2.0)\n",
      "Requirement already satisfied: tabledata<2,>=1.3.1 in /home/u82c09ec9d93e5ef52d0b9314c1dc336/.local/lib/python3.9/site-packages (from pytablewriter->lm-eval==0.4.3->-r requirements_cpu.txt (line 10)) (1.3.3)\n",
      "Requirement already satisfied: tcolorpy<1,>=0.0.5 in /home/u82c09ec9d93e5ef52d0b9314c1dc336/.local/lib/python3.9/site-packages (from pytablewriter->lm-eval==0.4.3->-r requirements_cpu.txt (line 10)) (0.1.6)\n",
      "Requirement already satisfied: typepy<2,>=1.3.2 in /home/u82c09ec9d93e5ef52d0b9314c1dc336/.local/lib/python3.9/site-packages (from typepy[datetime]<2,>=1.3.2->pytablewriter->lm-eval==0.4.3->-r requirements_cpu.txt (line 10)) (1.3.2)\n",
      "Requirement already satisfied: mpmath<1.4,>=1.1.0 in /home/u82c09ec9d93e5ef52d0b9314c1dc336/.local/lib/python3.9/site-packages (from sympy->torch==2.3.0->-r requirements_cpu.txt (line 26)) (1.3.0)\n",
      "Requirement already satisfied: mdurl~=0.1 in /home/u82c09ec9d93e5ef52d0b9314c1dc336/.local/lib/python3.9/site-packages (from markdown-it-py>=2.2.0->rich>=10.0.0->fschat==0.2.32->-r requirements_cpu.txt (line 7)) (0.1.2)\n",
      "Requirement already satisfied: contourpy>=1.0.1 in /opt/intel/oneapi/intelpython/lib/python3.9/site-packages (from matplotlib>=2.1.0->pycocotools->neural-compressor->-r requirements_cpu.txt (line 11)) (1.2.0)\n",
      "Requirement already satisfied: cycler>=0.10 in /opt/intel/oneapi/intelpython/lib/python3.9/site-packages (from matplotlib>=2.1.0->pycocotools->neural-compressor->-r requirements_cpu.txt (line 11)) (0.12.1)\n",
      "Requirement already satisfied: fonttools>=4.22.0 in /opt/intel/oneapi/intelpython/lib/python3.9/site-packages (from matplotlib>=2.1.0->pycocotools->neural-compressor->-r requirements_cpu.txt (line 11)) (4.47.2)\n",
      "Requirement already satisfied: kiwisolver>=1.3.1 in /opt/intel/oneapi/intelpython/lib/python3.9/site-packages (from matplotlib>=2.1.0->pycocotools->neural-compressor->-r requirements_cpu.txt (line 11)) (1.4.5)\n",
      "Requirement already satisfied: pyparsing>=2.3.1 in /opt/intel/oneapi/intelpython/lib/python3.9/site-packages (from matplotlib>=2.1.0->pycocotools->neural-compressor->-r requirements_cpu.txt (line 11)) (3.1.1)\n",
      "Requirement already satisfied: importlib-resources>=3.2.0 in /opt/intel/oneapi/intelpython/lib/python3.9/site-packages (from matplotlib>=2.1.0->pycocotools->neural-compressor->-r requirements_cpu.txt (line 11)) (6.1.1)\n",
      "Requirement already satisfied: chardet<6,>=3.0.4 in /home/u82c09ec9d93e5ef52d0b9314c1dc336/.local/lib/python3.9/site-packages (from mbstrdecoder<2,>=1.0.0->pytablewriter->lm-eval==0.4.3->-r requirements_cpu.txt (line 10)) (5.2.0)\n",
      "Requirement already satisfied: shellingham>=1.3.0 in /home/u82c09ec9d93e5ef52d0b9314c1dc336/.local/lib/python3.9/site-packages (from typer>=0.12.3->fastapi-cli>=0.0.2->fastapi->-r requirements_cpu.txt (line 6)) (1.5.4)\n",
      "Requirement already satisfied: svgwrite in /home/u82c09ec9d93e5ef52d0b9314c1dc336/.local/lib/python3.9/site-packages (from wavedrom->markdown2[all]->fschat==0.2.32->-r requirements_cpu.txt (line 7)) (1.4.3)\n",
      "Requirement already satisfied: zipp>=3.1.0 in /opt/intel/oneapi/intelpython/lib/python3.9/site-packages (from importlib-resources>=3.2.0->matplotlib>=2.1.0->pycocotools->neural-compressor->-r requirements_cpu.txt (line 11)) (3.17.0)\n",
      "Using cached fschat-0.2.32-py3-none-any.whl (211 kB)\n",
      "Installing collected packages: fschat\n",
      "  Attempting uninstall: fschat\n",
      "    Found existing installation: fschat 0.2.35\n",
      "    Uninstalling fschat-0.2.35:\n",
      "      Successfully uninstalled fschat-0.2.35\n",
      "Successfully installed fschat-0.2.32\n",
      "/home/u82c09ec9d93e5ef52d0b9314c1dc336/Training/AI/GenAI/intel-extension-for-transformers/intel_extension_for_transformers/neural_chat/docs/notebooks\n"
     ]
    }
   ],
   "source": [
    "%cd ./intel-extension-for-transformers/intel_extension_for_transformers/neural_chat/\n",
    "!pip install -r requirements_cpu.txt\n",
    "%cd ../../../"
   ]
  },
  {
   "cell_type": "markdown",
   "metadata": {},
   "source": [
    "# Build your chatbot 💻"
   ]
  },
  {
   "cell_type": "markdown",
   "metadata": {},
   "source": [
    "## Text Chat"
   ]
  },
  {
   "cell_type": "markdown",
   "metadata": {},
   "source": [
    "Giving NeuralChat the textual instruction, it will respond with the textual response."
   ]
  },
  {
   "cell_type": "markdown",
   "metadata": {},
   "source": [
    "## Text Chat With Retrieval Plugin"
   ]
  },
  {
   "cell_type": "markdown",
   "metadata": {},
   "source": [
    "User could also leverage NeuralChat Retrieval plugin to do domain specific chat by feding with some documents like below:"
   ]
  },
  {
   "cell_type": "code",
   "execution_count": null,
   "metadata": {},
   "outputs": [],
   "source": [
    "%cd ./intel-extension-for-transformers/intel_extension_for_transformers/neural_chat/pipeline/plugins/retrieval/\n",
    "!pip install -r requirements.txt\n",
    "%cd ../../../../../../"
   ]
  },
  {
   "cell_type": "code",
   "execution_count": null,
   "metadata": {},
   "outputs": [],
   "source": [
    "!mkdir docs\n",
    "%cd docs\n",
    "!curl -OL https://raw.githubusercontent.com/intel/intel-extension-for-transformers/main/intel_extension_for_transformers/neural_chat/assets/docs/sample.jsonl\n",
    "!curl -OL https://raw.githubusercontent.com/intel/intel-extension-for-transformers/main/intel_extension_for_transformers/neural_chat/assets/docs/sample.txt\n",
    "!curl -OL https://raw.githubusercontent.com/intel/intel-extension-for-transformers/main/intel_extension_for_transformers/neural_chat/assets/docs/sample.xlsx\n",
    "%cd .."
   ]
  },
  {
   "cell_type": "code",
   "execution_count": null,
   "metadata": {},
   "outputs": [],
   "source": [
    "from intel_extension_for_transformers.neural_chat import PipelineConfig\n",
    "from intel_extension_for_transformers.neural_chat import build_chatbot\n",
    "from intel_extension_for_transformers.neural_chat import plugins\n",
    "plugins.retrieval.enable=True\n",
    "plugins.retrieval.args[\"input_path\"]=\"./docs/\"\n",
    "config = PipelineConfig(plugins=plugins)\n",
    "chatbot = build_chatbot(config)\n",
    "response = chatbot.predict(\"How many cores does the Intel® Xeon® Platinum 8480+ Processor have in total?\")\n",
    "print(response)"
   ]
  },
  {
   "cell_type": "markdown",
   "metadata": {},
   "source": [
    "## Voice Chat with ASR & TTS Plugin"
   ]
  },
  {
   "cell_type": "markdown",
   "metadata": {},
   "source": [
    "In the context of voice chat, users have the option to engage in various modes: utilizing input audio and receiving output audio, employing input audio and receiving textual output, or providing input in textual form and receiving audio output.\n",
    "\n",
    "For the Python API code, users have the option to enable different voice chat modes by setting ASR and TTS plugins enable or disable."
   ]
  },
  {
   "cell_type": "code",
   "execution_count": null,
   "metadata": {},
   "outputs": [],
   "source": [
    "%cd ./intel-extension-for-transformers/intel_extension_for_transformers/neural_chat/pipeline/plugins/audio/\n",
    "!pip install -r requirements.txt\n",
    "%cd ../../../../../../"
   ]
  },
  {
   "cell_type": "code",
   "execution_count": null,
   "metadata": {},
   "outputs": [],
   "source": [
    "!curl -OL https://raw.githubusercontent.com/intel/intel-extension-for-transformers/main/intel_extension_for_transformers/neural_chat/assets/speaker_embeddings/spk_embed_default.pt\n",
    "!curl -OL https://raw.githubusercontent.com/intel/intel-extension-for-transformers/main/intel_extension_for_transformers/neural_chat/assets/audio/sample.wav"
   ]
  },
  {
   "cell_type": "code",
   "execution_count": null,
   "metadata": {},
   "outputs": [],
   "source": [
    "from intel_extension_for_transformers.neural_chat import PipelineConfig\n",
    "from intel_extension_for_transformers.neural_chat import build_chatbot\n",
    "from intel_extension_for_transformers.neural_chat import plugins\n",
    "plugins.tts.enable = True\n",
    "plugins.tts.args[\"output_audio_path\"] = \"./response.wav\"\n",
    "plugins.asr.enable = True\n",
    "\n",
    "config = PipelineConfig(plugins=plugins)\n",
    "chatbot = build_chatbot(config)\n",
    "result = chatbot.predict(query=\"./sample.wav\")\n",
    "print(result)"
   ]
  },
  {
   "cell_type": "markdown",
   "metadata": {},
   "source": [
    "# Low Precision Optimization"
   ]
  },
  {
   "cell_type": "markdown",
   "metadata": {},
   "source": [
    "## BF16"
   ]
  },
  {
   "cell_type": "code",
   "execution_count": null,
   "metadata": {},
   "outputs": [],
   "source": [
    "# BF16 Optimization\n",
    "from intel_extension_for_transformers.neural_chat.config import PipelineConfig\n",
    "from intel_extension_for_transformers.transformers import MixedPrecisionConfig\n",
    "config = PipelineConfig(optimization_config=MixedPrecisionConfig())\n",
    "chatbot = build_chatbot(config)\n",
    "response = chatbot.predict(query=\"Tell me about Intel Xeon Scalable Processors.\")\n",
    "print(response)"
   ]
  }
 ],
 "metadata": {
  "kernelspec": {
   "display_name": "Python 3 (ipykernel)",
   "language": "python",
   "name": "python3"
  },
  "language_info": {
   "codemirror_mode": {
    "name": "ipython",
    "version": 3
   },
   "file_extension": ".py",
   "mimetype": "text/x-python",
   "name": "python",
   "nbconvert_exporter": "python",
   "pygments_lexer": "ipython3",
   "version": "3.11.5"
  }
 },
 "nbformat": 4,
 "nbformat_minor": 4
}
